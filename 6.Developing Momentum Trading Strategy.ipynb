{
 "cells": [
  {
   "cell_type": "markdown",
   "metadata": {},
   "source": [
    "Developing \"Momentum\" Trading Strategy\n",
    " - Imagine a train that's already chugging along. Momentum trading is a bit like hopping on when the train is speeding up.\n",
    " - People have different ways of using this strategy, but it often involves riding along with the current trend.\n",
    " - No matter how you describe it,  you first need to research potential trading signals."
   ]
  },
  {
   "cell_type": "code",
   "execution_count": 5,
   "metadata": {},
   "outputs": [],
   "source": [
    "import numpy as np\n",
    "import pandas as pd\n",
    "import pandas_datareader as pdr\n",
    "import matplotlib.pyplot as plt"
   ]
  },
  {
   "cell_type": "markdown",
   "metadata": {},
   "source": [
    "1. Download data:\n",
    "From Yahoo Finance API\n",
    "Typically trading \"systems\" involve a number of securities\n",
    "For this demonstration we are just going to look at GLD, the gold ETF"
   ]
  },
  {
   "cell_type": "code",
   "execution_count": null,
   "metadata": {},
   "outputs": [],
   "source": [
    "gld = pdr.get_data_yahoo('GLD')\n",
    "day = np.arange(1, len(gld) + 1)\n",
    "gld['day'] = day\n",
    "gld.drop(columns=['Adj Close', 'Volume'], inplace = True)\n",
    "gld = gld[['day', 'Open', 'High', 'Low', 'Close']]\n",
    "gld.head()"
   ]
  },
  {
   "cell_type": "code",
   "execution_count": null,
   "metadata": {},
   "outputs": [],
   "source": [
    "gld.info()"
   ]
  },
  {
   "cell_type": "markdown",
   "metadata": {},
   "source": [
    "2. Add data/transform data\n",
    "We're learning how to decide when to buy or sell things like stocks. We use calculations based on prices or patterns. One method is \"moving average crossover,\" where we calculate average prices over time. When two of these averages cross, it's a signal to act – either invest for the long term or seize short-term opportunities. Think of it like watching temperature averages to predict weather changes. We create a plan (model) to predict how this strategy could work in real situations, even though real life can be unpredictable. When the averages cross in our plan, it's a signal to make a decision based on our calculations."
   ]
  },
  {
   "cell_type": "code",
   "execution_count": null,
   "metadata": {},
   "outputs": [],
   "source": [
    "gld['9-day'] = gld['Close'].rolling(9).mean()\n",
    "gld['21-day'] = gld['Close'].rolling(21).mean()\n",
    "gld[19:25]"
   ]
  },
  {
   "cell_type": "code",
   "execution_count": null,
   "metadata": {},
   "outputs": [],
   "source": [
    "#Add \"signal\" column\n",
    "gld['signal'] = np.where(gld['9-day'] > gld['21-day'], 1, 0)\n",
    "gld['signal'] = np.where(gld['9-day'] < gld['21-day'], -1, gld['signal'])\n",
    "gld.dropna(inplace=True)\n",
    "gld.head()"
   ]
  },
  {
   "cell_type": "code",
   "execution_count": null,
   "metadata": {},
   "outputs": [],
   "source": [
    "#Calculate Instantaneous returns/system returns\n",
    "gld['return'] = np.log(gld['Close']).diff()\n",
    "gld['system_return'] = gld['signal'] * gld['return']\n",
    "gld['entry'] = gld.signal.diff()\n",
    "gld.head()"
   ]
  },
  {
   "cell_type": "code",
   "execution_count": null,
   "metadata": {},
   "outputs": [],
   "source": [
    "#Plot trades on time series\n",
    "plt.rcParams['figure.figsize'] = 12, 6\n",
    "plt.grid(True, alpha = .3)\n",
    "plt.plot(gld.iloc[-252:]['Close'], label = 'GLD')\n",
    "plt.plot(gld.iloc[-252:]['9-day'], label = '9-day')\n",
    "plt.plot(gld.iloc[-252:]['21-day'], label = '21-day')\n",
    "plt.plot(gld[-252:].loc[gld.entry == 2].index, gld[-252:]['9-day'][gld.entry == 2], '^',\n",
    "         color = 'g', markersize = 12)\n",
    "plt.plot(gld[-252:].loc[gld.entry == -2].index, gld[-252:]['21-day'][gld.entry == -2], 'v',\n",
    "         color = 'r', markersize = 12)\n",
    "plt.legend(loc=2);"
   ]
  },
  {
   "cell_type": "code",
   "execution_count": null,
   "metadata": {},
   "outputs": [],
   "source": [
    "plt.plot(np.exp(gld['return']).cumprod(), label='Buy/Hold')\n",
    "plt.plot(np.exp(gld['system_return']).cumprod(), label='System')\n",
    "plt.legend(loc=2)\n",
    "plt.grid(True, alpha=.3)"
   ]
  },
  {
   "cell_type": "code",
   "execution_count": null,
   "metadata": {},
   "outputs": [],
   "source": [
    "np.exp(gld['return']).cumprod()[-1] -1"
   ]
  },
  {
   "cell_type": "code",
   "execution_count": null,
   "metadata": {},
   "outputs": [],
   "source": [
    "np.exp(gld['system_return']).cumprod()[-1] -1"
   ]
  }
 ],
 "metadata": {
  "kernelspec": {
   "display_name": "Python 3",
   "language": "python",
   "name": "python3"
  },
  "language_info": {
   "codemirror_mode": {
    "name": "ipython",
    "version": 3
   },
   "file_extension": ".py",
   "mimetype": "text/x-python",
   "name": "python",
   "nbconvert_exporter": "python",
   "pygments_lexer": "ipython3",
   "version": "3.11.2"
  },
  "orig_nbformat": 4
 },
 "nbformat": 4,
 "nbformat_minor": 2
}
