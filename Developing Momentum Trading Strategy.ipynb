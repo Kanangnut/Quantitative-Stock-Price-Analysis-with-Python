{
 "cells": [
  {
   "cell_type": "markdown",
   "metadata": {},
   "source": [
    "Developing \"Momentum\" Trading Strategy\n",
    " - Many differnt takes on this strategy\n",
    " - Sometimes referred to as trend following\n",
    " - Whatever you do and call it, you first need to research potential trading signals"
   ]
  },
  {
   "cell_type": "code",
   "execution_count": 5,
   "metadata": {},
   "outputs": [],
   "source": [
    "import numpy as np\n",
    "import pandas as pd\n",
    "import pandas_datareader as pdr\n",
    "import matplotlib.pyplot as plt"
   ]
  },
  {
   "cell_type": "markdown",
   "metadata": {},
   "source": [
    "1. Download data:\n",
    "Many services for this, some paid some free\n",
    "Yahoo Finance API\n",
    "Typically trading \"systems\" involve a number of securities\n",
    "For this demonstration we are just going to look at GLD --> the gold ETF"
   ]
  },
  {
   "cell_type": "code",
   "execution_count": null,
   "metadata": {},
   "outputs": [],
   "source": [
    "gld = pdr.get_data_yahoo('GLD')\n",
    "day = np.arange(1, len(gld) + 1)\n",
    "gld['day'] = day\n",
    "gld.drop(columns=['Adj Close', 'Volume'], inplace = True)\n",
    "gld = gld[['day', 'Open', 'High', 'Low', 'Close']]\n",
    "gld.head()"
   ]
  },
  {
   "cell_type": "code",
   "execution_count": null,
   "metadata": {},
   "outputs": [],
   "source": [
    "gld.info()"
   ]
  },
  {
   "cell_type": "markdown",
   "metadata": {},
   "source": [
    "2. Add data/transform data\n",
    "calculate signal based on some price or statistical action\n",
    "we are going to try a moving average crossover to generate signals\n",
    "for this strategy we will always by \"in\" a trade, either long or short\n",
    "we are modeling; this means real life variation should be expected\n",
    "Add moving averages to the data frame"
   ]
  },
  {
   "cell_type": "code",
   "execution_count": null,
   "metadata": {},
   "outputs": [],
   "source": [
    "gld['9-day'] = gld['Close'].rolling(9).mean()\n",
    "gld['21-day'] = gld['Close'].rolling(21).mean()\n",
    "gld[19:25]"
   ]
  },
  {
   "cell_type": "code",
   "execution_count": null,
   "metadata": {},
   "outputs": [],
   "source": [
    "#Add \"signal\" column\n",
    "gld['signal'] = np.where(gld['9-day'] > gld['21-day'], 1, 0)\n",
    "gld['signal'] = np.where(gld['9-day'] < gld['21-day'], -1, gld['signal'])\n",
    "gld.dropna(inplace=True)\n",
    "gld.head()"
   ]
  },
  {
   "cell_type": "code",
   "execution_count": null,
   "metadata": {},
   "outputs": [],
   "source": [
    "#Calculate Instantaneous returns/system returns\n",
    "gld['return'] = np.log(gld['Close']).diff()\n",
    "gld['system_return'] = gld['signal'] * gld['return']\n",
    "gld['entry'] = gld.signal.diff()\n",
    "gld.head()"
   ]
  },
  {
   "cell_type": "code",
   "execution_count": null,
   "metadata": {},
   "outputs": [],
   "source": [
    "#Plot trades on time series\n",
    "plt.rcParams['figure.figsize'] = 12, 6\n",
    "plt.grid(True, alpha = .3)\n",
    "plt.plot(gld.iloc[-252:]['Close'], label = 'GLD')\n",
    "plt.plot(gld.iloc[-252:]['9-day'], label = '9-day')\n",
    "plt.plot(gld.iloc[-252:]['21-day'], label = '21-day')\n",
    "plt.plot(gld[-252:].loc[gld.entry == 2].index, gld[-252:]['9-day'][gld.entry == 2], '^',\n",
    "         color = 'g', markersize = 12)\n",
    "plt.plot(gld[-252:].loc[gld.entry == -2].index, gld[-252:]['21-day'][gld.entry == -2], 'v',\n",
    "         color = 'r', markersize = 12)\n",
    "plt.legend(loc=2);"
   ]
  },
  {
   "cell_type": "code",
   "execution_count": null,
   "metadata": {},
   "outputs": [],
   "source": [
    "plt.plot(np.exp(gld['return']).cumprod(), label='Buy/Hold')\n",
    "plt.plot(np.exp(gld['system_return']).cumprod(), label='System')\n",
    "plt.legend(loc=2)\n",
    "plt.grid(True, alpha=.3)"
   ]
  },
  {
   "cell_type": "code",
   "execution_count": null,
   "metadata": {},
   "outputs": [],
   "source": [
    "np.exp(gld['return']).cumprod()[-1] -1"
   ]
  },
  {
   "cell_type": "code",
   "execution_count": null,
   "metadata": {},
   "outputs": [],
   "source": [
    "np.exp(gld['system_return']).cumprod()[-1] -1"
   ]
  }
 ],
 "metadata": {
  "kernelspec": {
   "display_name": "Python 3",
   "language": "python",
   "name": "python3"
  },
  "language_info": {
   "codemirror_mode": {
    "name": "ipython",
    "version": 3
   },
   "file_extension": ".py",
   "mimetype": "text/x-python",
   "name": "python",
   "nbconvert_exporter": "python",
   "pygments_lexer": "ipython3",
   "version": "3.11.2"
  },
  "orig_nbformat": 4
 },
 "nbformat": 4,
 "nbformat_minor": 2
}
