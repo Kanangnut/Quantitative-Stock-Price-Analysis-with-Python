{
 "cells": [
  {
   "cell_type": "markdown",
   "metadata": {},
   "source": [
    "Mean Reversion Trading Algorithm\n",
    " - A mean reversion trading strategy is like spotting when a stock or investment strays really far from its usual value.\n",
    " - The main thought behind this is that, eventually, it tends to return closer to its usual value.\n",
    " - There are various methods to make this strategy work, like using tools such as linear regression or moving averages.\n",
    " - The key question is: How much of a deviation is considered too much before it's likely to come back?\n"
   ]
  },
  {
   "cell_type": "code",
   "execution_count": 1,
   "metadata": {},
   "outputs": [],
   "source": [
    "import pandas as pd\n",
    "import pandas_datareader as pdr\n",
    "import numpy as np\n",
    "import matplotlib.pyplot as plt\n",
    "from matplotlib import rcParams\n",
    "rcParams['figure.figsize'] = 8,6\n",
    "import seaborn as sb\n",
    "sb.set()"
   ]
  },
  {
   "cell_type": "code",
   "execution_count": null,
   "metadata": {},
   "outputs": [],
   "source": [
    "gld = pd.DataFrame(pdr.get_data_yahoo('GLD')['Close'])"
   ]
  },
  {
   "cell_type": "code",
   "execution_count": null,
   "metadata": {},
   "outputs": [],
   "source": [
    "gld.head()"
   ]
  },
  {
   "cell_type": "code",
   "execution_count": null,
   "metadata": {},
   "outputs": [],
   "source": [
    "ma = 21\n",
    "gld['returns'] = np.log(gld[\"Close\"]).diff()\n",
    "gld['ma'] = gld['Close'].rolling(ma).mean()\n",
    "gld['ratio'] = gld['Close'] / gld['ma']"
   ]
  },
  {
   "cell_type": "code",
   "execution_count": null,
   "metadata": {},
   "outputs": [],
   "source": [
    "gld['ratio'].describe()"
   ]
  },
  {
   "cell_type": "code",
   "execution_count": null,
   "metadata": {},
   "outputs": [],
   "source": [
    "percentiles = [5, 10, 50, 90, 95]\n",
    "p = np.percentile(gld['ratio'].dropna(), percentiles)"
   ]
  },
  {
   "cell_type": "code",
   "execution_count": null,
   "metadata": {},
   "outputs": [],
   "source": [
    "gld['ratio'].dropna().plot(legend = True)\n",
    "plt.axhline(p[0], c= (.5,.5,.5), ls='--')\n",
    "plt.axhline(p[2], c= (.5,.5,.5), ls='--')\n",
    "plt.axhline(p[-1], c= (.5,.5,.5), ls='--');"
   ]
  },
  {
   "cell_type": "code",
   "execution_count": null,
   "metadata": {},
   "outputs": [],
   "source": [
    "short = p[-1]\n",
    "long = p[0]\n",
    "gld['position'] = np.where(gld.ratio > short, -1, np.nan)\n",
    "gld['position'] = np.where(gld.ratio < long, 1, gld['position'])\n",
    "gld['position'] = gld['position'].ffill()"
   ]
  },
  {
   "cell_type": "code",
   "execution_count": null,
   "metadata": {},
   "outputs": [],
   "source": [
    "gld.position.dropna().plot()"
   ]
  },
  {
   "cell_type": "code",
   "execution_count": null,
   "metadata": {},
   "outputs": [],
   "source": [
    "gld['strat_return'] = gld['returns'] * gld['position'].shift()"
   ]
  },
  {
   "cell_type": "code",
   "execution_count": null,
   "metadata": {},
   "outputs": [],
   "source": [
    "plt.plot(np.exp(gld['returns'].dropna()).cumprod(), label='Buy/Hold')\n",
    "plt.plot(np.exp(gld['strat_return'].dropna()).cumprod(), label='Strategy')\n",
    "plt.legend();"
   ]
  },
  {
   "cell_type": "code",
   "execution_count": null,
   "metadata": {},
   "outputs": [],
   "source": [
    "print(np.exp(gld['returns'].dropna()).cumprod()[-1] -1)\n",
    "print(np.exp(gld['strat_return'].dropna()).cumprod()[-1] - 1)"
   ]
  }
 ],
 "metadata": {
  "kernelspec": {
   "display_name": "Python 3",
   "language": "python",
   "name": "python3"
  },
  "language_info": {
   "codemirror_mode": {
    "name": "ipython",
    "version": 3
   },
   "file_extension": ".py",
   "mimetype": "text/x-python",
   "name": "python",
   "nbconvert_exporter": "python",
   "pygments_lexer": "ipython3",
   "version": "3.11.2"
  },
  "orig_nbformat": 4
 },
 "nbformat": 4,
 "nbformat_minor": 2
}
